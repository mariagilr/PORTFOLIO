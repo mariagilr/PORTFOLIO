{
 "cells": [
  {
   "cell_type": "code",
   "execution_count": 50,
   "metadata": {
    "_cell_guid": "b1076dfc-b9ad-4769-8c92-a6c4dae69d19",
    "_uuid": "8f2839f25d086af736a60e9eeb907d3b93b6e0e5"
   },
   "outputs": [],
   "source": [
    "import numpy as np \n",
    "import pandas as pd \n",
    "import matplotlib.pyplot as plt\n",
    "import seaborn as sns\n",
    "import os\n",
    "from collections import Counter\n",
    "from sklearn.model_selection import cross_val_score, train_test_split, GridSearchCV\n",
    "from sklearn import decomposition\n",
    "from sklearn.ensemble import RandomForestClassifier, GradientBoostingClassifier\n",
    "from sklearn.svm import SVC\n",
    "from sklearn.metrics import confusion_matrix, classification_report\n",
    "from fastai.vision import *\n",
    "from fastai.metrics import error_rate\n",
    "from fastai.widgets import *\n",
    "from fastai.callbacks.hooks import *\n",
    "current_palette = sns.color_palette('GnBu_d',7)\n",
    "sns.set_palette(current_palette)"
   ]
  },
  {
   "cell_type": "code",
   "execution_count": 2,
   "metadata": {},
   "outputs": [
    {
     "name": "stdout",
     "output_type": "stream",
     "text": [
      "Number of images:\n",
      "Training: 22968, Validation: 5741\n"
     ]
    }
   ],
   "source": [
    "# Indicate the paths for the two datasets (.csv and images)\n",
    "path = '../input/fer2013-images/images/images_fer2013/Training'\n",
    "path2 = '../input/challenges-in-representation-learning-facial-expression-recognition-challenge/fer2013/fer2013/fer2013.csv'\n",
    "wd = '/kaggle/working' # Create a working directory to save files created\n",
    "\n",
    "# Create ImageDataBunch (from fastai library)\n",
    "np.random.seed(42)\n",
    "data = ImageDataBunch.from_folder(path, train='.', valid_pct=0.2, ds_tfms=get_transforms(), bs=128)\n",
    "\n",
    "print(f'Number of images:\\nTraining: {len(data.train_ds)}, Validation: {len(data.valid_ds)}')"
   ]
  },
  {
   "cell_type": "markdown",
   "metadata": {},
   "source": [
    "### *CNN from Scratch*"
   ]
  },
  {
   "cell_type": "code",
   "execution_count": 5,
   "metadata": {},
   "outputs": [],
   "source": [
    "def conv2(ni,nf): return conv_layer(ni,nf,stride=2)"
   ]
  },
  {
   "cell_type": "code",
   "execution_count": 6,
   "metadata": {},
   "outputs": [],
   "source": [
    "class ResBlock(nn.Module):\n",
    "    def __init__(self, nf):\n",
    "        super().__init__()\n",
    "        self.conv1 = conv_layer(nf,nf)\n",
    "        self.conv2 = conv_layer(nf,nf)\n",
    "        \n",
    "    def forward(self, x): return x + self.conv2(self.conv1(x))"
   ]
  },
  {
   "cell_type": "code",
   "execution_count": 7,
   "metadata": {},
   "outputs": [],
   "source": [
    "def conv_and_res(ni,nf): return nn.Sequential(conv2(ni, nf), res_block(nf))"
   ]
  },
  {
   "cell_type": "code",
   "execution_count": 8,
   "metadata": {},
   "outputs": [],
   "source": [
    "model_own = nn.Sequential(\n",
    "    conv_and_res(3, 8), #24\n",
    "    conv_and_res(8, 16),#12\n",
    "    conv_and_res(16, 32),#6\n",
    "    conv_and_res(32, 64),#3\n",
    "    conv2(64, 128),#2\n",
    "    nn.MaxPool2d(2,2),\n",
    "    conv2(128, 7),#1\n",
    "    Flatten(),\n",
    ")"
   ]
  },
  {
   "cell_type": "code",
   "execution_count": 9,
   "metadata": {},
   "outputs": [
    {
     "name": "stdout",
     "output_type": "stream",
     "text": [
      "======================================================================\n",
      "Layer (type)         Output Shape         Param #    Trainable \n",
      "======================================================================\n",
      "Conv2d               [8, 24, 24]          216        True      \n",
      "______________________________________________________________________\n",
      "ReLU                 [8, 24, 24]          0          False     \n",
      "______________________________________________________________________\n",
      "BatchNorm2d          [8, 24, 24]          16         True      \n",
      "______________________________________________________________________\n",
      "Conv2d               [8, 24, 24]          576        True      \n",
      "______________________________________________________________________\n",
      "ReLU                 [8, 24, 24]          0          False     \n",
      "______________________________________________________________________\n",
      "BatchNorm2d          [8, 24, 24]          16         True      \n",
      "______________________________________________________________________\n",
      "Conv2d               [8, 24, 24]          576        True      \n",
      "______________________________________________________________________\n",
      "ReLU                 [8, 24, 24]          0          False     \n",
      "______________________________________________________________________\n",
      "BatchNorm2d          [8, 24, 24]          16         True      \n",
      "______________________________________________________________________\n",
      "MergeLayer           [8, 24, 24]          0          False     \n",
      "______________________________________________________________________\n",
      "Conv2d               [16, 12, 12]         1,152      True      \n",
      "______________________________________________________________________\n",
      "ReLU                 [16, 12, 12]         0          False     \n",
      "______________________________________________________________________\n",
      "BatchNorm2d          [16, 12, 12]         32         True      \n",
      "______________________________________________________________________\n",
      "Conv2d               [16, 12, 12]         2,304      True      \n",
      "______________________________________________________________________\n",
      "ReLU                 [16, 12, 12]         0          False     \n",
      "______________________________________________________________________\n",
      "BatchNorm2d          [16, 12, 12]         32         True      \n",
      "______________________________________________________________________\n",
      "Conv2d               [16, 12, 12]         2,304      True      \n",
      "______________________________________________________________________\n",
      "ReLU                 [16, 12, 12]         0          False     \n",
      "______________________________________________________________________\n",
      "BatchNorm2d          [16, 12, 12]         32         True      \n",
      "______________________________________________________________________\n",
      "MergeLayer           [16, 12, 12]         0          False     \n",
      "______________________________________________________________________\n",
      "Conv2d               [32, 6, 6]           4,608      True      \n",
      "______________________________________________________________________\n",
      "ReLU                 [32, 6, 6]           0          False     \n",
      "______________________________________________________________________\n",
      "BatchNorm2d          [32, 6, 6]           64         True      \n",
      "______________________________________________________________________\n",
      "Conv2d               [32, 6, 6]           9,216      True      \n",
      "______________________________________________________________________\n",
      "ReLU                 [32, 6, 6]           0          False     \n",
      "______________________________________________________________________\n",
      "BatchNorm2d          [32, 6, 6]           64         True      \n",
      "______________________________________________________________________\n",
      "Conv2d               [32, 6, 6]           9,216      True      \n",
      "______________________________________________________________________\n",
      "ReLU                 [32, 6, 6]           0          False     \n",
      "______________________________________________________________________\n",
      "BatchNorm2d          [32, 6, 6]           64         True      \n",
      "______________________________________________________________________\n",
      "MergeLayer           [32, 6, 6]           0          False     \n",
      "______________________________________________________________________\n",
      "Conv2d               [64, 3, 3]           18,432     True      \n",
      "______________________________________________________________________\n",
      "ReLU                 [64, 3, 3]           0          False     \n",
      "______________________________________________________________________\n",
      "BatchNorm2d          [64, 3, 3]           128        True      \n",
      "______________________________________________________________________\n",
      "Conv2d               [64, 3, 3]           36,864     True      \n",
      "______________________________________________________________________\n",
      "ReLU                 [64, 3, 3]           0          False     \n",
      "______________________________________________________________________\n",
      "BatchNorm2d          [64, 3, 3]           128        True      \n",
      "______________________________________________________________________\n",
      "Conv2d               [64, 3, 3]           36,864     True      \n",
      "______________________________________________________________________\n",
      "ReLU                 [64, 3, 3]           0          False     \n",
      "______________________________________________________________________\n",
      "BatchNorm2d          [64, 3, 3]           128        True      \n",
      "______________________________________________________________________\n",
      "MergeLayer           [64, 3, 3]           0          False     \n",
      "______________________________________________________________________\n",
      "Conv2d               [128, 2, 2]          73,728     True      \n",
      "______________________________________________________________________\n",
      "ReLU                 [128, 2, 2]          0          False     \n",
      "______________________________________________________________________\n",
      "BatchNorm2d          [128, 2, 2]          256        True      \n",
      "______________________________________________________________________\n",
      "MaxPool2d            [128, 1, 1]          0          False     \n",
      "______________________________________________________________________\n",
      "Conv2d               [7, 1, 1]            8,064      True      \n",
      "______________________________________________________________________\n",
      "ReLU                 [7, 1, 1]            0          False     \n",
      "______________________________________________________________________\n",
      "BatchNorm2d          [7, 1, 1]            14         True      \n",
      "______________________________________________________________________\n",
      "Flatten              [7]                  0          False     \n",
      "______________________________________________________________________\n",
      "\n",
      "Total params: 205,110\n",
      "Total trainable params: 205,110\n",
      "Total non-trainable params: 0\n",
      "\n"
     ]
    }
   ],
   "source": [
    "learn_own = Learner(data, model_own, loss_func = nn.CrossEntropyLoss(), metrics=accuracy, model_dir='/tmp/model/')\n",
    "print(learn_own.summary())"
   ]
  },
  {
   "cell_type": "code",
   "execution_count": 10,
   "metadata": {},
   "outputs": [
    {
     "data": {
      "text/html": [
       "<table border=\"1\" class=\"dataframe\">\n",
       "  <thead>\n",
       "    <tr style=\"text-align: left;\">\n",
       "      <th>epoch</th>\n",
       "      <th>train_loss</th>\n",
       "      <th>valid_loss</th>\n",
       "      <th>accuracy</th>\n",
       "      <th>time</th>\n",
       "    </tr>\n",
       "  </thead>\n",
       "  <tbody>\n",
       "    <tr>\n",
       "      <td>0</td>\n",
       "      <td>1.827721</td>\n",
       "      <td>1.793698</td>\n",
       "      <td>0.288277</td>\n",
       "      <td>01:01</td>\n",
       "    </tr>\n",
       "  </tbody>\n",
       "</table>"
      ],
      "text/plain": [
       "<IPython.core.display.HTML object>"
      ]
     },
     "metadata": {},
     "output_type": "display_data"
    }
   ],
   "source": [
    "np.random.seed(42)\n",
    "learn_own.fit_one_cycle(1)"
   ]
  },
  {
   "cell_type": "code",
   "execution_count": 13,
   "metadata": {},
   "outputs": [
    {
     "data": {
      "text/html": [],
      "text/plain": [
       "<IPython.core.display.HTML object>"
      ]
     },
     "metadata": {},
     "output_type": "display_data"
    },
    {
     "name": "stdout",
     "output_type": "stream",
     "text": [
      "LR Finder is complete, type {learner_name}.recorder.plot() to see the graph.\n"
     ]
    }
   ],
   "source": [
    "learn_own.unfreeze()\n",
    "learn_own.lr_find()"
   ]
  },
  {
   "cell_type": "code",
   "execution_count": 14,
   "metadata": {},
   "outputs": [
    {
     "data": {
      "image/png": "[encoded data removed]",
      "text/plain": [
       "<Figure size 432x288 with 1 Axes>"
      ]
     },
     "metadata": {},
     "output_type": "display_data"
    }
   ],
   "source": [
    "learn_own.recorder.plot()"
   ]
  },
  {
   "cell_type": "code",
   "execution_count": 15,
   "metadata": {},
   "outputs": [
    {
     "data": {
      "text/html": [
       "<table border=\"1\" class=\"dataframe\">\n",
       "  <thead>\n",
       "    <tr style=\"text-align: left;\">\n",
       "      <th>epoch</th>\n",
       "      <th>train_loss</th>\n",
       "      <th>valid_loss</th>\n",
       "      <th>accuracy</th>\n",
       "      <th>time</th>\n",
       "    </tr>\n",
       "  </thead>\n",
       "  <tbody>\n",
       "    <tr>\n",
       "      <td>0</td>\n",
       "      <td>1.769283</td>\n",
       "      <td>1.746957</td>\n",
       "      <td>0.307786</td>\n",
       "      <td>00:49</td>\n",
       "    </tr>\n",
       "    <tr>\n",
       "      <td>1</td>\n",
       "      <td>1.731092</td>\n",
       "      <td>1.692571</td>\n",
       "      <td>0.351507</td>\n",
       "      <td>00:49</td>\n",
       "    </tr>\n",
       "    <tr>\n",
       "      <td>2</td>\n",
       "      <td>1.680690</td>\n",
       "      <td>1.645849</td>\n",
       "      <td>0.381641</td>\n",
       "      <td>00:50</td>\n",
       "    </tr>\n",
       "    <tr>\n",
       "      <td>3</td>\n",
       "      <td>1.621313</td>\n",
       "      <td>1.569501</td>\n",
       "      <td>0.399408</td>\n",
       "      <td>00:50</td>\n",
       "    </tr>\n",
       "    <tr>\n",
       "      <td>4</td>\n",
       "      <td>1.554621</td>\n",
       "      <td>1.524426</td>\n",
       "      <td>0.422226</td>\n",
       "      <td>00:49</td>\n",
       "    </tr>\n",
       "    <tr>\n",
       "      <td>5</td>\n",
       "      <td>1.503523</td>\n",
       "      <td>1.474436</td>\n",
       "      <td>0.429194</td>\n",
       "      <td>00:50</td>\n",
       "    </tr>\n",
       "    <tr>\n",
       "      <td>6</td>\n",
       "      <td>1.473058</td>\n",
       "      <td>1.523921</td>\n",
       "      <td>0.406027</td>\n",
       "      <td>00:49</td>\n",
       "    </tr>\n",
       "    <tr>\n",
       "      <td>7</td>\n",
       "      <td>1.427257</td>\n",
       "      <td>1.530652</td>\n",
       "      <td>0.411775</td>\n",
       "      <td>00:49</td>\n",
       "    </tr>\n",
       "    <tr>\n",
       "      <td>8</td>\n",
       "      <td>1.384556</td>\n",
       "      <td>1.413756</td>\n",
       "      <td>0.450618</td>\n",
       "      <td>00:50</td>\n",
       "    </tr>\n",
       "    <tr>\n",
       "      <td>9</td>\n",
       "      <td>1.366153</td>\n",
       "      <td>1.368305</td>\n",
       "      <td>0.478314</td>\n",
       "      <td>00:49</td>\n",
       "    </tr>\n",
       "    <tr>\n",
       "      <td>10</td>\n",
       "      <td>1.329655</td>\n",
       "      <td>1.343207</td>\n",
       "      <td>0.485804</td>\n",
       "      <td>00:50</td>\n",
       "    </tr>\n",
       "    <tr>\n",
       "      <td>11</td>\n",
       "      <td>1.299421</td>\n",
       "      <td>1.295566</td>\n",
       "      <td>0.503919</td>\n",
       "      <td>00:50</td>\n",
       "    </tr>\n",
       "    <tr>\n",
       "      <td>12</td>\n",
       "      <td>1.287970</td>\n",
       "      <td>1.270434</td>\n",
       "      <td>0.513499</td>\n",
       "      <td>00:49</td>\n",
       "    </tr>\n",
       "    <tr>\n",
       "      <td>13</td>\n",
       "      <td>1.252039</td>\n",
       "      <td>1.251239</td>\n",
       "      <td>0.520118</td>\n",
       "      <td>00:50</td>\n",
       "    </tr>\n",
       "    <tr>\n",
       "      <td>14</td>\n",
       "      <td>1.218701</td>\n",
       "      <td>1.227400</td>\n",
       "      <td>0.532311</td>\n",
       "      <td>00:50</td>\n",
       "    </tr>\n",
       "    <tr>\n",
       "      <td>15</td>\n",
       "      <td>1.213197</td>\n",
       "      <td>1.358062</td>\n",
       "      <td>0.484759</td>\n",
       "      <td>00:50</td>\n",
       "    </tr>\n",
       "    <tr>\n",
       "      <td>16</td>\n",
       "      <td>1.198518</td>\n",
       "      <td>1.216591</td>\n",
       "      <td>0.527783</td>\n",
       "      <td>00:49</td>\n",
       "    </tr>\n",
       "    <tr>\n",
       "      <td>17</td>\n",
       "      <td>1.174340</td>\n",
       "      <td>1.175917</td>\n",
       "      <td>0.546769</td>\n",
       "      <td>00:50</td>\n",
       "    </tr>\n",
       "    <tr>\n",
       "      <td>18</td>\n",
       "      <td>1.148185</td>\n",
       "      <td>1.153604</td>\n",
       "      <td>0.558788</td>\n",
       "      <td>00:49</td>\n",
       "    </tr>\n",
       "    <tr>\n",
       "      <td>19</td>\n",
       "      <td>1.127687</td>\n",
       "      <td>1.174242</td>\n",
       "      <td>0.550601</td>\n",
       "      <td>00:49</td>\n",
       "    </tr>\n",
       "    <tr>\n",
       "      <td>20</td>\n",
       "      <td>1.108770</td>\n",
       "      <td>1.159629</td>\n",
       "      <td>0.561226</td>\n",
       "      <td>00:50</td>\n",
       "    </tr>\n",
       "    <tr>\n",
       "      <td>21</td>\n",
       "      <td>1.088717</td>\n",
       "      <td>1.130978</td>\n",
       "      <td>0.570284</td>\n",
       "      <td>00:52</td>\n",
       "    </tr>\n",
       "    <tr>\n",
       "      <td>22</td>\n",
       "      <td>1.079568</td>\n",
       "      <td>1.135755</td>\n",
       "      <td>0.571155</td>\n",
       "      <td>00:50</td>\n",
       "    </tr>\n",
       "    <tr>\n",
       "      <td>23</td>\n",
       "      <td>1.073150</td>\n",
       "      <td>1.116988</td>\n",
       "      <td>0.574813</td>\n",
       "      <td>00:50</td>\n",
       "    </tr>\n",
       "    <tr>\n",
       "      <td>24</td>\n",
       "      <td>1.053129</td>\n",
       "      <td>1.110057</td>\n",
       "      <td>0.581258</td>\n",
       "      <td>00:50</td>\n",
       "    </tr>\n",
       "    <tr>\n",
       "      <td>25</td>\n",
       "      <td>1.041962</td>\n",
       "      <td>1.120820</td>\n",
       "      <td>0.580561</td>\n",
       "      <td>00:50</td>\n",
       "    </tr>\n",
       "    <tr>\n",
       "      <td>26</td>\n",
       "      <td>1.008931</td>\n",
       "      <td>1.116980</td>\n",
       "      <td>0.580561</td>\n",
       "      <td>00:50</td>\n",
       "    </tr>\n",
       "    <tr>\n",
       "      <td>27</td>\n",
       "      <td>0.998184</td>\n",
       "      <td>1.095215</td>\n",
       "      <td>0.589096</td>\n",
       "      <td>00:50</td>\n",
       "    </tr>\n",
       "    <tr>\n",
       "      <td>28</td>\n",
       "      <td>0.976620</td>\n",
       "      <td>1.095759</td>\n",
       "      <td>0.592580</td>\n",
       "      <td>00:49</td>\n",
       "    </tr>\n",
       "    <tr>\n",
       "      <td>29</td>\n",
       "      <td>0.960926</td>\n",
       "      <td>1.108023</td>\n",
       "      <td>0.587180</td>\n",
       "      <td>00:50</td>\n",
       "    </tr>\n",
       "    <tr>\n",
       "      <td>30</td>\n",
       "      <td>0.950684</td>\n",
       "      <td>1.096958</td>\n",
       "      <td>0.591186</td>\n",
       "      <td>00:50</td>\n",
       "    </tr>\n",
       "    <tr>\n",
       "      <td>31</td>\n",
       "      <td>0.945174</td>\n",
       "      <td>1.099323</td>\n",
       "      <td>0.595541</td>\n",
       "      <td>00:49</td>\n",
       "    </tr>\n",
       "    <tr>\n",
       "      <td>32</td>\n",
       "      <td>0.919403</td>\n",
       "      <td>1.095017</td>\n",
       "      <td>0.600418</td>\n",
       "      <td>00:49</td>\n",
       "    </tr>\n",
       "    <tr>\n",
       "      <td>33</td>\n",
       "      <td>0.911669</td>\n",
       "      <td>1.091316</td>\n",
       "      <td>0.597979</td>\n",
       "      <td>00:50</td>\n",
       "    </tr>\n",
       "    <tr>\n",
       "      <td>34</td>\n",
       "      <td>0.907328</td>\n",
       "      <td>1.096087</td>\n",
       "      <td>0.596934</td>\n",
       "      <td>00:50</td>\n",
       "    </tr>\n",
       "    <tr>\n",
       "      <td>35</td>\n",
       "      <td>0.900627</td>\n",
       "      <td>1.097159</td>\n",
       "      <td>0.595541</td>\n",
       "      <td>00:50</td>\n",
       "    </tr>\n",
       "    <tr>\n",
       "      <td>36</td>\n",
       "      <td>0.887891</td>\n",
       "      <td>1.097862</td>\n",
       "      <td>0.599895</td>\n",
       "      <td>00:50</td>\n",
       "    </tr>\n",
       "    <tr>\n",
       "      <td>37</td>\n",
       "      <td>0.894846</td>\n",
       "      <td>1.095263</td>\n",
       "      <td>0.599721</td>\n",
       "      <td>00:49</td>\n",
       "    </tr>\n",
       "    <tr>\n",
       "      <td>38</td>\n",
       "      <td>0.882458</td>\n",
       "      <td>1.098865</td>\n",
       "      <td>0.596760</td>\n",
       "      <td>00:50</td>\n",
       "    </tr>\n",
       "    <tr>\n",
       "      <td>39</td>\n",
       "      <td>0.876967</td>\n",
       "      <td>1.093881</td>\n",
       "      <td>0.597805</td>\n",
       "      <td>00:52</td>\n",
       "    </tr>\n",
       "  </tbody>\n",
       "</table>"
      ],
      "text/plain": [
       "<IPython.core.display.HTML object>"
      ]
     },
     "metadata": {},
     "output_type": "display_data"
    }
   ],
   "source": [
    "np.random.seed(42)\n",
    "learn_own.fit_one_cycle(40, max_lr=5e-3)"
   ]
  },
  {
   "cell_type": "code",
   "execution_count": 16,
   "metadata": {},
   "outputs": [
    {
     "data": {
      "image/png": "[encoded data removed]",
      "text/plain": [
       "<Figure size 432x288 with 1 Axes>"
      ]
     },
     "metadata": {},
     "output_type": "display_data"
    }
   ],
   "source": [
    "learn_own.recorder.plot_losses()"
   ]
  },
  {
   "cell_type": "markdown",
   "metadata": {},
   "source": [
    "### *CNN Features*"
   ]
  },
  {
   "cell_type": "code",
   "execution_count": 133,
   "metadata": {},
   "outputs": [
    {
     "data": {
      "image/png": "[encoded data removed]",
      "text/plain": [
       "<Figure size 216x216 with 1 Axes>"
      ]
     },
     "metadata": {},
     "output_type": "display_data"
    }
   ],
   "source": [
    "m = learn_own.model.eval()\n",
    "x,y = data.train_ds[0]\n",
    "xb,_ = data.one_item(x)\n",
    "x.show(y=y)"
   ]
  },
  {
   "cell_type": "code",
   "execution_count": 125,
   "metadata": {},
   "outputs": [],
   "source": [
    "def hooked_backward(y, i):\n",
    "    with hook_output(m[i]) as hook_a: \n",
    "        with hook_output(m[i], grad=True) as hook_g:\n",
    "            preds = m(xb)\n",
    "            preds[0,int(y)].backward()\n",
    "    return hook_a,hook_g"
   ]
  },
  {
   "cell_type": "code",
   "execution_count": 134,
   "metadata": {},
   "outputs": [
    {
     "data": {
      "image/png": "[encoded data removed]",
      "text/plain": [
       "<Figure size 1512x216 with 8 Axes>"
      ]
     },
     "metadata": {},
     "output_type": "display_data"
    },
    {
     "data": {
      "image/png": "[encoded data removed]",
      "text/plain": [
       "<Figure size 1512x216 with 16 Axes>"
      ]
     },
     "metadata": {},
     "output_type": "display_data"
    },
    {
     "data": {
      "image/png": "[encoded data removed]",
      "text/plain": [
       "<Figure size 1512x216 with 32 Axes>"
      ]
     },
     "metadata": {},
     "output_type": "display_data"
    },
    {
     "data": {
      "image/png": "[encoded data removed]",
      "text/plain": [
       "<Figure size 1512x216 with 64 Axes>"
      ]
     },
     "metadata": {},
     "output_type": "display_data"
    }
   ],
   "source": [
    "for i in range(4):\n",
    "    fig = plt.figure(figsize=(21,3))\n",
    "    fig.suptitle('Resblock number ' + str(i+1))\n",
    "    hook_a,hook_g = hooked_backward(y, i)\n",
    "    acts  = hook_a.stored[0]\n",
    "    for j in range(len(acts)):\n",
    "        plt.subplot(1,len(acts),j+1, xticks=[], yticks=[],)\n",
    "        plt.imshow(acts[j], cmap=plt.cm.bone)\n",
    "plt.show()"
   ]
  }
 ],
 "metadata": {
  "kernelspec": {
   "display_name": "Python 3",
   "language": "python",
   "name": "python3"
  },
  "language_info": {
   "codemirror_mode": {
    "name": "ipython",
    "version": 3
   },
   "file_extension": ".py",
   "mimetype": "text/x-python",
   "name": "python",
   "nbconvert_exporter": "python",
   "pygments_lexer": "ipython3",
   "version": "3.6.7"
  }
 },
 "nbformat": 4,
 "nbformat_minor": 1
}
